{
 "cells": [
  {
   "cell_type": "code",
   "execution_count": 94,
   "id": "9116c6a8-94af-4a96-86ac-8a2ea8cc6073",
   "metadata": {},
   "outputs": [],
   "source": [
    "import pandapower as pp\n",
    "from pandapower import plotting\n",
    "from pandapower.plotting import simple_plotly, pf_res_plotly\n",
    "import pandas as pd\n",
    "import numpy as np\n",
    "import geopandas as gpd\n",
    "import matplotlib.pyplot as plt\n",
    "from shapely.geometry import Point, LineString\n",
    "import math\n",
    "import numba\n",
    "import seaborn\n",
    "\n",
    "\n",
    "net = pp.create_empty_network() # creating network\n"
   ]
  },
  {
   "cell_type": "code",
   "execution_count": 95,
   "id": "0000425b-760f-43e5-a580-6c37cadf8ace",
   "metadata": {},
   "outputs": [],
   "source": [
    "# summer scenario \n",
    "  # date = 9 Aug 2019 @ 13:31\n",
    "  # max demand = 1303 MW\n",
    "\n",
    "# winter scenario\n",
    "  # date = 22 Jan 2019 @ 20.24\n",
    "  # max demand = 956 MW\n",
    "\n",
    "#create 18 buses\n",
    "bus_df=pd.read_excel('1059042_Balearic_islands_my_stuff.xlsx',sheet_name=0)\n",
    "\n",
    "b = []\n",
    "\n",
    "for i in bus_df['bus_id']:\n",
    "    b.append(pp.create_bus(net, vn_kv = bus_df.loc[bus_df['bus_id']==i, 'vn_kv'].values[0], name = bus_df.loc[bus_df['bus_id']==i, 'name'].values[0], geodata = eval(bus_df.loc[bus_df['bus_id']==i, 'geodata'].values[0])))\n",
    "    "
   ]
  },
  {
   "cell_type": "code",
   "execution_count": 96,
   "id": "b6b19b07-bd59-4f60-8883-7c9dd4928655",
   "metadata": {},
   "outputs": [
    {
     "data": {
      "text/plain": [
       "0"
      ]
     },
     "execution_count": 96,
     "metadata": {},
     "output_type": "execute_result"
    }
   ],
   "source": [
    "# create the grid connection point to mainland this will then act as the slack bus.\n",
    "connect_bus = b[1]\n",
    "vm_pu = 1\n",
    "\n",
    "pp.create_ext_grid(net, bus=connect_bus, vm_pu=vm_pu, name = \"Slack bus\")\n"
   ]
  },
  {
   "cell_type": "code",
   "execution_count": 97,
   "id": "1ee3fbc1-9529-44eb-b479-7a0e81865d71",
   "metadata": {},
   "outputs": [],
   "source": [
    "#net.bus"
   ]
  },
  {
   "cell_type": "code",
   "execution_count": 98,
   "id": "f688901f-cc02-4984-a93b-8e01ef8baf39",
   "metadata": {},
   "outputs": [
    {
     "data": {
      "text/plain": [
       "2"
      ]
     },
     "execution_count": 98,
     "metadata": {},
     "output_type": "execute_result"
    }
   ],
   "source": [
    "# create all of the transformers for the system - there will be three here, as below\n",
    "\n",
    "# bus 1 Santa Ponca (132) / bus 2 Santa Ponca (220)\n",
    "#hv_bus = b[2]\n",
    "#lv_bus = b[1]\n",
    "#sn_mva = 320    \n",
    "#vn_hv_kv = 132\n",
    "#vn_lv_kv = 220\n",
    "#vk_percent = 12\n",
    "#vkr_percent = 0.26\n",
    "#pfe_kw = 55\n",
    "#i0_percent = 0.06 \n",
    "#pp.create_transformer(net, hv_bus=b[2], lv_bus=b[1], std_type='100 MVA 220/110 kV')\n",
    "pp.create_transformer_from_parameters(net, hv_bus=b[2], lv_bus=b[1], sn_mva=320, vn_hv_kv=220, vn_lv_kv=132, vkr_percent=0.26, vk_percent=12, pfe_kw=55, i0_percent=0.06)\n",
    "\n",
    "\n",
    "# bus 5 Portol (Cas Tresorer) (220) / bus 6 Portol (Cas Tresorer) (66)\n",
    "#hv_bus = b[5]\n",
    "#lv_bus = b[6]\n",
    "#sn_mva = 480\n",
    "#vn_hv_kv = 220\n",
    "#vn_lv_kv = 66\n",
    "#vk_percent = 12\n",
    "#vkr_percent = 0.26\n",
    "#pfe_kw = 55\n",
    "#i0_percent = 0.06\n",
    "pp.create_transformer_from_parameters(net, hv_bus=b[5], lv_bus=b[6], sn_mva=480, vn_hv_kv=220, vn_lv_kv=66, vkr_percent=0.26, vk_percent=12, pfe_kw=55, i0_percent=0.06)\n",
    "\n",
    "\n",
    "# bus 10 Es Bessons (220) /  bus 11 Es Bessons (132)\n",
    "#hv_bus = b[10]\n",
    "#lv_bus = b[11]\n",
    "# used parameters from 100 MVA 220/110 kV standard type\n",
    "#sn_mva = 446 \n",
    "#vn_hv_kv = 220\n",
    "#vn_lv_kv = 132\n",
    "#vk_percent = 12\n",
    "#vkr_percent = 0.26\n",
    "#pfe_kw = 55\n",
    "#i0_percent = 0.06\n",
    "pp.create_transformer_from_parameters(net, hv_bus=b[10], lv_bus=b[11], sn_mva=446, vn_hv_kv=220, vn_lv_kv=132, vkr_percent=0.26, vk_percent=12, pfe_kw=55, i0_percent=0.06)\n",
    "\n"
   ]
  },
  {
   "cell_type": "code",
   "execution_count": 99,
   "id": "f51b2f99-87ac-4455-ad1b-bf43a44a292a",
   "metadata": {},
   "outputs": [],
   "source": [
    "#net.trafo"
   ]
  },
  {
   "cell_type": "code",
   "execution_count": 100,
   "id": "a3e1b603-f1c2-41b1-b304-feda048834b8",
   "metadata": {},
   "outputs": [
    {
     "data": {
      "text/plain": [
       "18"
      ]
     },
     "execution_count": 100,
     "metadata": {},
     "output_type": "execute_result"
    }
   ],
   "source": [
    "#create the lines and pull all of the information out of the spreadsheet\n",
    "\n",
    "line_df=pd.read_excel('1059042_Balearic_islands_my_stuff.xlsx',sheet_name=3)\n",
    "\n",
    "l = []\n",
    "\n",
    "#create the geodata for the cables this can then be used later to import into QGIS.\n",
    "\n",
    "loc_b0=(1.430833, 38.91917)\n",
    "loc_b1=(2.506454, 39.53525)\n",
    "loc_b2=(2.507937, 39.53662)\n",
    "loc_b3=(2.549167, 39.58417)\n",
    "loc_b4=(2.678889, 39.65083)\n",
    "loc_b5=(2.724617, 39.56686)\n",
    "loc_b6=(2.724617, 39.56686)\n",
    "loc_b7=(2.744444, 39.60028)\n",
    "loc_b8=(3.039444, 39.67333)\n",
    "loc_b9=(3.0925, 39.80944)\n",
    "loc_b10=(3.158056, 39.58194)\n",
    "loc_b11=(3.159638, 39.58209)\n",
    "loc_b12=(3.427024, 39.73827)\n",
    "loc_b13=(3.834227, 39.93175)\n",
    "loc_b14=(3.855278, 40.00333)\n",
    "loc_b15=(4.095556, 39.97694)\n",
    "loc_b16=(4.236667, 39.89111)\n",
    "loc_b17=(4.258155, 39.89706)\n",
    "\n",
    "#Note to remember - the number of cables will determine the characteristics of the wires.\n",
    "\n",
    "#Cable Type Underwater - r_ohm_per_km=underwater_r, x_ohm_per_km=underwater_x, c_nf_per_km=underwater_c,max_i_ka=underwater_a\n",
    "underwater_r =0.053\n",
    "underwater_x = 0.119\n",
    "underwater_c = 1.700000e-09\n",
    "underwater_a = 0.545\n",
    "#Cable Type Condor - r_ohm_per_km=condor_r, x_ohm_per_km=condor_x, c_nf_per_km=condor_c,max_i_ka=condor_a\n",
    "condor_r =0.021\n",
    "condor_x = 0.32\n",
    "condor_c = 1.00e-09\n",
    "condor_a = 0.975\n",
    "#Cable Type Peacock - r_ohm_per_km=peacock_r, x_ohm_per_km=peacock_x, c_nf_per_km=peacock_c,max_i_ka=peacock_a\n",
    "peacock_r = 0.031823\n",
    "peacock_x = 0.325366\n",
    "peacock_c = 1.00e-09\n",
    "peacock_a = 0.83\n",
    "#Cable Type Pelican - r_ohm_per_km=pelican_r, x_ohm_per_km=pelican_x, c_nf_per_km=pelican_c,max_i_ka=pelican_a\n",
    "pelican_r = 0.040567\n",
    "pelican_x = 0.329077\n",
    "pelican_c = 1.00e-09\n",
    "pelican_a = 0.7\n",
    "#Cable Type Merlin - r_ohm_per_km=merlin_r, x_ohm_per_km=merlin_x, c_nf_per_km=merlin_c,max_i_ka=merlin_a\n",
    "merlin_r = 0.05\n",
    "merlin_x = 0.33485\n",
    "merlin_c = 1.00e-09\n",
    "merlin_a = 0.56\n",
    "#Cable Type Waxwing - r_ohm_per_km=waxwing_r, x_ohm_per_km=waxwing_x, c_nf_per_km=waxwing_c,max_i_ka=waxwing_a\n",
    "waxwing_r = 0.0723\n",
    "waxwing_x = 0.338219\n",
    "waxwing_c = 1.00e-09\n",
    "waxwing_a = 0.48\n",
    "#Cable Type Pigeon -  r_ohm_per_km=pigeon_r, x_ohm_per_km=pigeon_x, c_nf_per_km=pigeon_c,max_i_ka=pigeon_a\n",
    "pigeon_r = 0.112867\n",
    "pigeon_x = 0.345464\n",
    "pigeon_c = 1.00e-09\n",
    "pigeon_a = 0.34\n",
    "#Cable Type Raven - r_ohm_per_km=raven_r, x_ohm_per_km=raven_x, c_nf_per_km=raven_c,max_i_ka=raven_a\n",
    "raven_r = 0.179\n",
    "raven_x = 0.353\n",
    "raven_c = 1.00e-09\n",
    "raven_a = 0.255\n",
    "\n",
    "#Create all of the wires with the parameters and also add the geodata into them\n",
    "#0\n",
    "pp.create_line_from_parameters(net, from_bus=b[0],to_bus=b[1],length_km=126, r_ohm_per_km=underwater_r, x_ohm_per_km=underwater_x, c_nf_per_km=underwater_c,max_i_ka=underwater_a, geodata=[loc_b0, loc_b1]) \n",
    "#1\n",
    "pp.create_line_from_parameters(net, from_bus=b[2],to_bus=b[3],length_km=5.599, r_ohm_per_km=raven_r, x_ohm_per_km=raven_x, c_nf_per_km=raven_c,max_i_ka=raven_a, geodata=[loc_b2, loc_b3]) \n",
    "#2\n",
    "pp.create_line_from_parameters(net, from_bus=b[3],to_bus=b[4],length_km=15.025, r_ohm_per_km=raven_r, x_ohm_per_km=raven_x, c_nf_per_km=raven_c,max_i_ka=raven_a, geodata=[loc_b3, loc_b4]) \n",
    "#3\n",
    "pp.create_line_from_parameters(net, from_bus=b[3],to_bus=b[4],length_km=14.89,r_ohm_per_km=merlin_r, x_ohm_per_km=merlin_x, c_nf_per_km=merlin_c,max_i_ka=merlin_a, geodata=[loc_b3, loc_b4]) \n",
    "#4\n",
    "pp.create_line_from_parameters(net, from_bus=b[4],to_bus=b[7],length_km=9.41, r_ohm_per_km=merlin_r, x_ohm_per_km=merlin_x, c_nf_per_km=merlin_c,max_i_ka=merlin_a, geodata=[loc_b4, loc_b7]) \n",
    "#5\n",
    "pp.create_line_from_parameters(net, from_bus=b[4],to_bus=b[8],length_km=33.83,r_ohm_per_km=raven_r, x_ohm_per_km=raven_x, c_nf_per_km=raven_c,max_i_ka=raven_a, geodata=[loc_b4, loc_b8])\n",
    "#6\n",
    "pp.create_line_from_parameters(net, from_bus=b[7],to_bus=b[5],length_km=4.35, r_ohm_per_km=condor_r, x_ohm_per_km=condor_x, c_nf_per_km=condor_c,max_i_ka=condor_a, geodata=[loc_b7, loc_b5]) \n",
    "#7\n",
    "pp.create_line_from_parameters(net, from_bus=b[7],to_bus=b[8],length_km=28.9, r_ohm_per_km=merlin_r, x_ohm_per_km=merlin_x, c_nf_per_km=merlin_c,max_i_ka=merlin_a, geodata=[loc_b7, loc_b8]) \n",
    "#8\n",
    "pp.create_line_from_parameters(net, from_bus=b[8],to_bus=b[9],length_km=16.7, r_ohm_per_km=peacock_r, x_ohm_per_km=peacock_x, c_nf_per_km=peacock_c,max_i_ka=peacock_a, geodata=[loc_b8, loc_b9]) \n",
    "#9\n",
    "pp.create_line_from_parameters(net, from_bus=b[9],to_bus=b[9],length_km=16.06, r_ohm_per_km=peacock_r, x_ohm_per_km=peacock_x, c_nf_per_km=peacock_c,max_i_ka=peacock_a, geodata=[loc_b8, loc_b9]) \n",
    "#10\n",
    "pp.create_line_from_parameters(net, from_bus=b[8],to_bus=b[10],length_km=15.177, r_ohm_per_km=pelican_r, x_ohm_per_km=pelican_x, c_nf_per_km=pelican_c,max_i_ka=pelican_a, geodata=[loc_b8, loc_b10]) \n",
    "#11\n",
    "pp.create_line_from_parameters(net, from_bus=b[8],to_bus=b[10],length_km=14.95, r_ohm_per_km=pelican_r, x_ohm_per_km=pelican_x, c_nf_per_km=pelican_c,max_i_ka=pelican_a, geodata=[loc_b8, loc_b10]) \n",
    "#12\n",
    "pp.create_line_from_parameters(net, from_bus=b[11],to_bus=b[12],length_km=30.27, r_ohm_per_km=peacock_r, x_ohm_per_km=peacock_x, c_nf_per_km=peacock_c,max_i_ka=peacock_a, geodata=[loc_b11, loc_b12]) \n",
    "#13\n",
    "pp.create_line_from_parameters(net, from_bus=b[12],to_bus=b[13],length_km=52.94, r_ohm_per_km=underwater_r, x_ohm_per_km=underwater_x, c_nf_per_km=underwater_c,max_i_ka=underwater_a, geodata=[loc_b12, loc_b13]) \n",
    "#14\n",
    "pp.create_line_from_parameters(net, from_bus=b[13],to_bus=b[14],length_km=8.2, r_ohm_per_km=pelican_r, x_ohm_per_km=pelican_x, c_nf_per_km=pelican_c,max_i_ka=pelican_a, geodata=[loc_b13, loc_b14]) \n",
    "#15\n",
    "pp.create_line_from_parameters(net, from_bus=b[14],to_bus=b[16],length_km=35.5, r_ohm_per_km=pelican_r, x_ohm_per_km=pelican_x, c_nf_per_km=pelican_c,max_i_ka=pelican_a, geodata=[loc_b14, loc_b16]) \n",
    "#16\n",
    "pp.create_line_from_parameters(net, from_bus=b[14],to_bus=b[15],length_km=21.13, r_ohm_per_km=pelican_r, x_ohm_per_km=pelican_x, c_nf_per_km=pelican_c,max_i_ka=pelican_a, geodata=[loc_b14, loc_b15]) \n",
    "#17\n",
    "pp.create_line_from_parameters(net, from_bus=b[15],to_bus=b[16],length_km=15.43, r_ohm_per_km=pelican_r, x_ohm_per_km=pelican_x, c_nf_per_km=pelican_c,max_i_ka=pelican_a, geodata=[loc_b15, loc_b16]) \n",
    "#18\n",
    "pp.create_line_from_parameters(net, from_bus=b[16],to_bus=b[17],length_km=4.71, r_ohm_per_km=pelican_r, x_ohm_per_km=pelican_x, c_nf_per_km=pelican_c,max_i_ka=pelican_a, geodata=[loc_b16, loc_b17]) "
   ]
  },
  {
   "cell_type": "code",
   "execution_count": 101,
   "id": "9a35457e-b6e2-4597-899f-d9f213309c76",
   "metadata": {},
   "outputs": [],
   "source": [
    "#net.line"
   ]
  },
  {
   "cell_type": "code",
   "execution_count": 102,
   "id": "3486e310-dbfd-4173-995e-76d4c5e8c615",
   "metadata": {},
   "outputs": [],
   "source": [
    "# create the loads by pulling all of the information through the excel.\n",
    "\n",
    "load_df=pd.read_excel('1059042_Balearic_islands_my_stuff.xlsx',sheet_name=1)\n",
    "\n",
    "\n",
    "p_mw_s = 'summer_p_mw'\n",
    "q_mvar_s = 'summer_q_mvar'\n",
    "\n",
    "for i in load_df['bus_id']:\n",
    "    pp.create_load(net, \n",
    "                 b[i], \n",
    "                 p_mw=load_df.loc[load_df['bus_id']==i, p_mw_s].values[0], \n",
    "                 q_mvar=load_df.loc[load_df['bus_id']==i, q_mvar_s].values[0])"
   ]
  },
  {
   "cell_type": "code",
   "execution_count": 103,
   "id": "f26cb122-58db-4edf-bee0-f14703039c88",
   "metadata": {},
   "outputs": [],
   "source": [
    "#net.load"
   ]
  },
  {
   "cell_type": "code",
   "execution_count": 104,
   "id": "0b06abeb-ee6a-4a83-88d1-89a4a3453b1a",
   "metadata": {},
   "outputs": [
    {
     "data": {
      "text/plain": [
       "\"\\n#The below shows the required solar PV generation to provide the island with 80% of it's daily energy for the specific day.\\n\\ngen_df=pd.read_excel('1059042_Balearic_islands_my_stuff_PV.xlsx',sheet_name=2)\\n\\np_mw = 'gen_at_peak_summer_PV'\\n  \\nfor i in gen_df['bus_connection']:\\n    pp.create_gen(net, \\n                b[i],\\n                p_mw = gen_df.loc[gen_df['bus_connection']==i,'actual_gen_pro_rata'].values[0], \\n                vm_pu=vm_pu,   # defined above\\n                name= gen_df.loc[gen_df['bus_connection']==i,'name'].values[0])\\n\""
      ]
     },
     "execution_count": 104,
     "metadata": {},
     "output_type": "execute_result"
    }
   ],
   "source": [
    "#With this section add \"\"\" below and remove the \"\"\" at the bottom of the page to view the generation with solar PV generation.\n",
    "\n",
    "#The generation below is for the island at the summer peak without the solar generation required for 80% of the islands daily energy.\n",
    "\n",
    "#pulling in information from excel spreadsheet we will first look at the current condition of the island where demand and generation is peak. \n",
    "\n",
    "gen_df=pd.read_excel('1059042_Balearic_islands_my_stuff.xlsx',sheet_name=2)\n",
    "\n",
    "p_mw = 'gen_at_peak_summer'\n",
    "  \n",
    "for i in gen_df['bus_connection']:\n",
    "    pp.create_gen(net, \n",
    "                b[i], \n",
    "                p_mw = gen_df.loc[gen_df['bus_connection']==i, 'actual_gen_pro_rata'].values[0], \n",
    "                vm_pu=vm_pu,   # defined above\n",
    "                name= gen_df.loc[gen_df['bus_connection']==i,'name'].values[0])\n",
    "    \n",
    "\"\"\"\n",
    "#The below shows the required solar PV generation to provide the island with 80% of it's daily energy for the specific day.\n",
    "\n",
    "gen_df=pd.read_excel('1059042_Balearic_islands_my_stuff_PV.xlsx',sheet_name=2)\n",
    "\n",
    "p_mw = 'gen_at_peak_summer_PV'\n",
    "  \n",
    "for i in gen_df['bus_connection']:\n",
    "    pp.create_gen(net, \n",
    "                b[i],\n",
    "                p_mw = gen_df.loc[gen_df['bus_connection']==i,'actual_gen_pro_rata'].values[0], \n",
    "                vm_pu=vm_pu,   # defined above\n",
    "                name= gen_df.loc[gen_df['bus_connection']==i,'name'].values[0])\n",
    "\"\"\""
   ]
  },
  {
   "cell_type": "code",
   "execution_count": 105,
   "id": "61f47b89-c105-4d3c-9dd3-6715d1c475df",
   "metadata": {},
   "outputs": [],
   "source": [
    "#net.gen"
   ]
  },
  {
   "cell_type": "code",
   "execution_count": 106,
   "id": "8f1baa8b-a2a8-448f-b227-1afd90c8441e",
   "metadata": {},
   "outputs": [],
   "source": [
    "#run the powerflow through the Gaus Seidel \n",
    "\n",
    "pp.runpp(net, algorithm='gs')"
   ]
  },
  {
   "cell_type": "code",
   "execution_count": 139,
   "id": "832cf6cf-785f-48a7-acd4-49752a34e005",
   "metadata": {},
   "outputs": [],
   "source": [
    "#net.res_trafo"
   ]
  },
  {
   "cell_type": "code",
   "execution_count": 133,
   "id": "408937ca",
   "metadata": {},
   "outputs": [],
   "source": [
    "#net.line"
   ]
  },
  {
   "cell_type": "code",
   "execution_count": 134,
   "id": "62252dd3-9820-4ee8-b074-e7ba2c6a556c",
   "metadata": {
    "scrolled": false
   },
   "outputs": [],
   "source": [
    "#net.res_line"
   ]
  },
  {
   "cell_type": "code",
   "execution_count": 135,
   "id": "de5e76d0-3770-4826-9a9a-b6d71ec36519",
   "metadata": {},
   "outputs": [],
   "source": [
    "#net.res_load"
   ]
  },
  {
   "cell_type": "code",
   "execution_count": 136,
   "id": "599dbcaf-d463-49b1-943d-2f96ffc33ffd",
   "metadata": {},
   "outputs": [],
   "source": [
    "#net.res_bus"
   ]
  },
  {
   "cell_type": "code",
   "execution_count": 140,
   "id": "5afb1edf-fe66-4aac-b7ae-68ff2143cc7e",
   "metadata": {
    "scrolled": false
   },
   "outputs": [
    {
     "name": "stderr",
     "output_type": "stream",
     "text": [
      "The number of given colors (1) is smaller than the number of nodes (18) to draw! The colors will be repeated to fit.\n"
     ]
    },
    {
     "data": {
      "image/png": "[encoded data removed]",
      "text/plain": [
       "<Figure size 720x576 with 3 Axes>"
      ]
     },
     "metadata": {},
     "output_type": "display_data"
    }
   ],
   "source": [
    "#Now will need to plot the results of the powerflow into a powerflow map - for this I have used the seaborn import from which we can change the colours to ensure much clearer representation of information.\n",
    "\n",
    "import seaborn\n",
    "import matplotlib.pyplot as plt\n",
    "\n",
    "\n",
    "pp.to_excel(net, 'AdamIncSOLARppnet.xlsx')\n",
    "\n",
    "colors = seaborn.color_palette()\n",
    "\n",
    "bc = pp.plotting.create_bus_collection(net, buses=net.res_bus.index, size=.03, color=colors[0], patch_type='circle', cmap='viridis', norm=None, \\\n",
    "                                       infofunc=None, picker=False, bus_geodata=None, z=net.res_bus.p_mw, cbar_title='Bus Power [MW]')\n",
    "\n",
    "lc = pp.plotting.create_line_collection(net, lines=net.res_line.index, line_geodata=None, bus_geodata=None, use_bus_geodata=False,\\\n",
    "                                        infofunc=None, cmap='YlOrBr', norm=None, picker=False, z=None, cbar_title='Line Loading [%]', clim=(0,100), plot_colormap=True)\n",
    "\n",
    "tc = pp.plotting.create_trafo_collection(net, trafos=net.res_trafo.index, picker=False, size=.02, infofunc=None, norm=None, z=None,\n",
    "                                            clim=(0,100), cbar_title='Transformer Loading [%]', plot_colormap=True)\n",
    "\n",
    "pp.plotting.draw_collections([tc, lc, bc])\n",
    "\n",
    "#plt.show()\n",
    "\n",
    "pp.plotting.to_html(net, 'AdamExcSOLARppnet.html', respect_switches=True, include_lines=True, include_trafos=True, show_tables=True)\n",
    "#net.res_line\n",
    "\n",
    "\n",
    "pp.to_json(net, \"AdamIncSOLARppnet.json\")\n",
    "\n",
    "\n",
    "#net.res_line\n"
   ]
  },
  {
   "cell_type": "code",
   "execution_count": 141,
   "id": "689095d9",
   "metadata": {},
   "outputs": [],
   "source": [
    "#net.res_gen"
   ]
  },
  {
   "cell_type": "code",
   "execution_count": 142,
   "id": "6f222fe4",
   "metadata": {},
   "outputs": [],
   "source": [
    "#net.line"
   ]
  },
  {
   "cell_type": "code",
   "execution_count": 143,
   "id": "11a205e1",
   "metadata": {},
   "outputs": [
    {
     "name": "stderr",
     "output_type": "stream",
     "text": [
      "C:\\Users\\adamg\\anaconda3\\envs\\geo_env\\lib\\site-packages\\pandas\\core\\dtypes\\cast.py:118: ShapelyDeprecationWarning: The array interface is deprecated and will no longer work in Shapely 2.0. Convert the '.coords' to a numpy array instead.\n",
      "  arr = construct_1d_object_array_from_listlike(values)\n",
      "C:\\Users\\adamg\\AppData\\Local\\Temp/ipykernel_27440/1888714151.py:36: UserWarning: Column names longer than 10 characters will be truncated when saved to ESRI Shapefile.\n",
      "  gdf_lineloc.to_file(\"lineAdamIncSOLARsummer.shp\")\n"
     ]
    }
   ],
   "source": [
    "pd_line = pd.DataFrame(net.line_geodata)\n",
    "\n",
    "pd_bus = pd.DataFrame(net.res_bus)\n",
    "gdf_busloc = gpd.GeoDataFrame(net.bus_geodata, geometry=gpd.points_from_xy(net.bus_geodata.x, net.bus_geodata.y))\n",
    "\n",
    "\n",
    "pd_bus['geometry'] = gdf_busloc['geometry']\n",
    "\n",
    "gdf_businfo = gpd.GeoDataFrame(pd_bus, crs=\"EPSG:4326\")\n",
    "\n",
    "#print(gdf_busloc)\n",
    "#gdf_busloc.plot()\n",
    "\n",
    "#now work out the lines after the powerflow as been undertaken and assign the coordinates for each line.\n",
    "\n",
    "l1 = [*range(0, 19, 1)]\n",
    "l2 = [*range(0, 19, 1)]\n",
    "\n",
    "\n",
    "for i in range(0,19) :\n",
    "    l1[i] = LineString(pd_line['coords'][i])\n",
    "    l2[i] = i\n",
    "                    \n",
    "d = {'col1': l2, 'geometry': l1}\n",
    "\n",
    "\n",
    "df=pd.DataFrame(d)\n",
    "\n",
    "pd_lineinfo = pd.DataFrame(net.res_line)\n",
    "\n",
    "pd_lineinfo['geometry'] = df['geometry']\n",
    "\n",
    "\n",
    "gdf_lineloc = gpd.GeoDataFrame(pd_lineinfo, crs=\"EPSG:4326\") \n",
    "\n",
    "gdf_lineloc.to_file(\"lineAdamIncSOLARsummer.shp\")\n",
    "gdf_businfo.to_file('busAdamIncSOLARsummer.shp')\n",
    "\n",
    "#df_businfo.head()"
   ]
  }
 ],
 "metadata": {
  "kernelspec": {
   "display_name": "geo_env",
   "language": "python",
   "name": "geo_env"
  },
  "language_info": {
   "codemirror_mode": {
    "name": "ipython",
    "version": 3
   },
   "file_extension": ".py",
   "mimetype": "text/x-python",
   "name": "python",
   "nbconvert_exporter": "python",
   "pygments_lexer": "ipython3",
   "version": "3.9.7"
  }
 },
 "nbformat": 4,
 "nbformat_minor": 5
}
